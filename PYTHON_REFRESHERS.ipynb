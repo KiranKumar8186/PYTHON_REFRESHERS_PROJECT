{
 "cells": [
  {
   "cell_type": "markdown",
   "id": "3fd49be5",
   "metadata": {},
   "source": [
    "# PYTHON REFRESHERS ASSIGNMENT"
   ]
  },
  {
   "cell_type": "markdown",
   "id": "73bffa4a",
   "metadata": {},
   "source": [
    "###### 1. Write functions, along with proper code documentation and formatting:"
   ]
  },
  {
   "cell_type": "raw",
   "id": "b9790d2d",
   "metadata": {},
   "source": [
    "a. To check whether a number is prime or not"
   ]
  },
  {
   "cell_type": "code",
   "execution_count": 2,
   "id": "df3f4c70",
   "metadata": {},
   "outputs": [
    {
     "name": "stdout",
     "output_type": "stream",
     "text": [
      "67 is a prime number\n"
     ]
    }
   ],
   "source": [
    "# given number\n",
    "number = 67\n",
    "\n",
    "# prime number is always greater than 1\n",
    "if number > 1:\n",
    "    for i in range(2, number):\n",
    "        if (number % i) == 0:\n",
    "            print(number, \"is not a prime number\")\n",
    "            break\n",
    "    else:\n",
    "        print(number, \"is a prime number\")\n",
    "\n",
    "# if the entered number is less than or equal to 1\n",
    "# then it is not prime number\n",
    "else:\n",
    "    print(number, \"is not a prime number\")"
   ]
  },
  {
   "cell_type": "markdown",
   "id": "30754de4",
   "metadata": {},
   "source": [
    "b.To find the longest word in a sentence given as input by the user"
   ]
  },
  {
   "cell_type": "code",
   "execution_count": 29,
   "id": "be650a15",
   "metadata": {},
   "outputs": [
    {
     "name": "stdout",
     "output_type": "stream",
     "text": [
      "Enter sentence: the greatest of all\n",
      "Longest word is:  greatest\n"
     ]
    }
   ],
   "source": [
    "# To find the Longest word\n",
    "\n",
    "# Reading sentence from user\n",
    "\n",
    "sentence = input(\"Enter sentence: \")\n",
    "\n",
    "# Finding longest word\n",
    "longest = max(sentence.split(), key=len)\n",
    "\n",
    "# Displaying longest word\n",
    "print(\"Longest word is: \", longest)"
   ]
  },
  {
   "cell_type": "markdown",
   "id": "6a44dda4",
   "metadata": {},
   "source": [
    "c. To find how many times a given user-inputted substring is repeated in another user inputted string"
   ]
  },
  {
   "cell_type": "code",
   "execution_count": 1,
   "id": "03b00828",
   "metadata": {},
   "outputs": [
    {
     "name": "stdout",
     "output_type": "stream",
     "text": [
      "one plus one minus one is one\n",
      "one\n",
      "4\n"
     ]
    }
   ],
   "source": [
    "# defining a function that will take two argument\n",
    "def count_substring(string, sub_string):\n",
    "    inc = 0\n",
    "    for i in range(0, len(string)): # giving range and finding length of the given string\n",
    "        slice_object = slice(i,len(sub_string)+i)\n",
    "        count = len(string[slice_object]) # finding the length of the slice_object\n",
    "        if(count == len(sub_string)):\n",
    "            if(sub_string == string[slice_object]):\n",
    "                inc = inc + 1\n",
    "    return inc\n",
    "\n",
    "if __name__ == '__main__':\n",
    "    string = input().strip()\n",
    "    sub_string = input().strip()\n",
    "\n",
    "    count = count_substring(string, sub_string)\n",
    "    print(count)"
   ]
  },
  {
   "cell_type": "markdown",
   "id": "6d481e60",
   "metadata": {},
   "source": [
    "###### 2. Create the following class with the given attributes and methods;"
   ]
  },
  {
   "cell_type": "markdown",
   "id": "62d4dd6b",
   "metadata": {},
   "source": [
    "a. Standard -\n",
    "* Attributes: Std name, No of enrolled students, Overall GPA\n",
    "* Methods: getStd, getEnrolled, getOGPA"
   ]
  },
  {
   "cell_type": "code",
   "execution_count": 35,
   "id": "b55ce7e9",
   "metadata": {},
   "outputs": [],
   "source": [
    "# Standard class\n",
    "class standard:\n",
    "    def __init__(self,std_name,no_of_enrolled_students,OGPA):\n",
    "        self.std_name = std_name\n",
    "        self.no_of_enrolled_students = no_of_enrolled_students\n",
    "        self.OGPA = OGPA\n",
    "        \n",
    "    def getStd(self):  # defining getStd method\n",
    "        return self.std_name\n",
    "    \n",
    "    def getEnrolled(self): # defining getEnrolled method\n",
    "        return self.no_of_enrolled_students\n",
    "    \n",
    "    def getOGPA(self):  # defining getOGPA method\n",
    "        return  self.OGPA    \n",
    "obj = standard(\"nikhil\", 5, 7)    "
   ]
  },
  {
   "cell_type": "code",
   "execution_count": 36,
   "id": "e7afb149",
   "metadata": {},
   "outputs": [
    {
     "data": {
      "text/plain": [
       "'nikhil'"
      ]
     },
     "execution_count": 36,
     "metadata": {},
     "output_type": "execute_result"
    }
   ],
   "source": [
    "obj.getStd()"
   ]
  },
  {
   "cell_type": "code",
   "execution_count": 37,
   "id": "c94ff32a",
   "metadata": {},
   "outputs": [
    {
     "data": {
      "text/plain": [
       "5"
      ]
     },
     "execution_count": 37,
     "metadata": {},
     "output_type": "execute_result"
    }
   ],
   "source": [
    "obj.getEnrolled()"
   ]
  },
  {
   "cell_type": "code",
   "execution_count": 38,
   "id": "10d96913",
   "metadata": {},
   "outputs": [
    {
     "data": {
      "text/plain": [
       "7"
      ]
     },
     "execution_count": 38,
     "metadata": {},
     "output_type": "execute_result"
    }
   ],
   "source": [
    "obj.getOGPA()"
   ]
  },
  {
   "cell_type": "markdown",
   "id": "00df2454",
   "metadata": {},
   "source": [
    "b. Students class with Standard as its super class  - \n",
    "* Attributes: Name,Roll No., Standard, Math marks, English Marks, Science Marks, Social Marks\n",
    "* Methods: getName, getRollNo, getStd, getGPA"
   ]
  },
  {
   "cell_type": "code",
   "execution_count": 42,
   "id": "c542e43d",
   "metadata": {},
   "outputs": [],
   "source": [
    "#Students class with Standard as its super class \n",
    "class Students(standard):\n",
    "    def __init__(self,Name,Roll_No,Standard_name,Math_marks,English_marks,Science_marks,Social_marks): # defining constructor\n",
    "            self.Name = Name\n",
    "            self.Roll_No = Roll_No\n",
    "            self.Standard_name = Standard_name\n",
    "            self.Math_marks = Math_marks\n",
    "            self.English_marks = English_marks\n",
    "            self.Science_marks = Science_marks\n",
    "            self.Social_marks = Social_marks\n",
    "            \n",
    "    def getName(self):\n",
    "        return self.Name\n",
    "    def getRollNo(self):\n",
    "        return self.Roll_No\n",
    "    def getStd(self):\n",
    "        return self.Standard_name\n",
    "    def getGPA(self):\n",
    "        avg_marks = (self.Math_marks+self.English_marks+self.Science_marks+self.Social_marks)/4\n",
    "        gpa = avg_marks/9\n",
    "        return round(gpa,2)\n",
    "obj1 = Students ('nikhil', 2, '5th', 45, 50, 43, 53)    "
   ]
  },
  {
   "cell_type": "code",
   "execution_count": 44,
   "id": "4ffdc4eb",
   "metadata": {},
   "outputs": [
    {
     "data": {
      "text/plain": [
       "'nikhil'"
      ]
     },
     "execution_count": 44,
     "metadata": {},
     "output_type": "execute_result"
    }
   ],
   "source": [
    "obj1.getName()"
   ]
  },
  {
   "cell_type": "code",
   "execution_count": 45,
   "id": "b18ceaa2",
   "metadata": {},
   "outputs": [
    {
     "data": {
      "text/plain": [
       "2"
      ]
     },
     "execution_count": 45,
     "metadata": {},
     "output_type": "execute_result"
    }
   ],
   "source": [
    "obj1.getRollNo()"
   ]
  },
  {
   "cell_type": "code",
   "execution_count": 46,
   "id": "e2ff106f",
   "metadata": {},
   "outputs": [
    {
     "data": {
      "text/plain": [
       "'5th'"
      ]
     },
     "execution_count": 46,
     "metadata": {},
     "output_type": "execute_result"
    }
   ],
   "source": [
    "obj1.getStd()"
   ]
  },
  {
   "cell_type": "code",
   "execution_count": 47,
   "id": "7ba31ba3",
   "metadata": {},
   "outputs": [
    {
     "data": {
      "text/plain": [
       "5.31"
      ]
     },
     "execution_count": 47,
     "metadata": {},
     "output_type": "execute_result"
    }
   ],
   "source": [
    "obj1.getGPA()"
   ]
  },
  {
   "cell_type": "markdown",
   "id": "3a4effd3",
   "metadata": {},
   "source": [
    "c. Explanation:\n",
    "* getName, getRollNo, getStd methods should give the name, roll number and standard of the student. \n",
    "* getGPA should give the average marks of math,english, science and social marks scaled to 10-points. Same applies for all the attributes and methods in the Standard superclass."
   ]
  },
  {
   "cell_type": "code",
   "execution_count": 49,
   "id": "ca6c46e4",
   "metadata": {},
   "outputs": [
    {
     "name": "stdout",
     "output_type": "stream",
     "text": [
      "Name :  akhil\n",
      "Roll No :  55\n",
      "Standard :  10th standard\n",
      "GPA :  8.14\n"
     ]
    }
   ],
   "source": [
    " # Creating objects for each class\n",
    " # creating object for Standard class first\n",
    "std1 = standard('10th standard', 90,8.4 )\n",
    "std2 = standard('9th standard', 80,7.4 )\n",
    "\n",
    "# creating object for Students class\n",
    "student1 = Students('akhil','55','10th standard',56,80,89,68)\n",
    "student2 = Students('manoj','50','9th standard',80,36,75,65)\n",
    "\n",
    "print(\"Name : \",student1.getName())\n",
    "print(\"Roll No : \",student1.getRollNo())\n",
    "print(\"Standard : \",student1.getStd())\n",
    "print(\"GPA : \",student1.getGPA())"
   ]
  },
  {
   "cell_type": "markdown",
   "id": "81a98997",
   "metadata": {},
   "source": [
    "###### 3. Answer the following:"
   ]
  },
  {
   "cell_type": "markdown",
   "id": "598f61a0",
   "metadata": {},
   "source": [
    "a. Create a function to find the indices of a parameter passed to the function in a user inputted array. Ex: f(0,[1,2,0,0,4]) gives [2,3] as output\n"
   ]
  },
  {
   "cell_type": "code",
   "execution_count": 28,
   "id": "54cbf07a",
   "metadata": {},
   "outputs": [
    {
     "name": "stdout",
     "output_type": "stream",
     "text": [
      "[2, 3]\n"
     ]
    }
   ],
   "source": [
    "# importing numpy library\n",
    "import numpy as np\n",
    "# defining function\n",
    "def function(no,arr):\n",
    "    out=[]\n",
    "    n=0\n",
    "    # giving range\n",
    "    for i in arr:\n",
    "        if i==no:\n",
    "            out.append(n)\n",
    "        n+=1\n",
    "    return out\n",
    "print(function(0,[1,2,0,0,4]))\n",
    "    "
   ]
  },
  {
   "cell_type": "markdown",
   "id": "37d4d07c",
   "metadata": {},
   "source": [
    "b. Create a random vector of size 30 and find the mean value"
   ]
  },
  {
   "cell_type": "code",
   "execution_count": 40,
   "id": "b9c7c1fb",
   "metadata": {},
   "outputs": [
    {
     "name": "stdout",
     "output_type": "stream",
     "text": [
      "[0.24391661 0.48812346 0.03255006 0.25340098 0.78184205 0.3923596\n",
      " 0.30711378 0.74721198 0.25685238 0.26745051 0.57905437 0.9540328\n",
      " 0.40487015 0.04135424 0.90868159 0.35468456 0.5854454  0.52564005\n",
      " 0.85444307 0.64892695 0.27960931 0.07984737 0.87149304 0.35426921\n",
      " 0.11570997 0.74068031 0.16763201 0.45043737 0.22472575 0.95513241]\n",
      "mean of the vector\n"
     ]
    },
    {
     "data": {
      "text/plain": [
       "0.46224971119623465"
      ]
     },
     "execution_count": 40,
     "metadata": {},
     "output_type": "execute_result"
    }
   ],
   "source": [
    "# printing 30 random values\n",
    "n = np.random.random(30)\n",
    "print(n)\n",
    "print(\"mean of the vector\")\n",
    "# and printing mean of those 30 random values\n",
    "np.mean(n)"
   ]
  },
  {
   "cell_type": "markdown",
   "id": "ef74e708",
   "metadata": {},
   "source": [
    "c. Create a 2d array with 1 on its edges and 0 in all other indices"
   ]
  },
  {
   "cell_type": "code",
   "execution_count": 15,
   "id": "ea2b4c02",
   "metadata": {},
   "outputs": [
    {
     "name": "stdout",
     "output_type": "stream",
     "text": [
      "1 on the border and 0 inside in the array\n",
      "[[1. 1. 1. 1. 1.]\n",
      " [1. 0. 0. 0. 1.]\n",
      " [1. 0. 0. 0. 1.]\n",
      " [1. 0. 0. 0. 1.]\n",
      " [1. 1. 1. 1. 1.]]\n"
     ]
    }
   ],
   "source": [
    "# importing numpy library\n",
    "import numpy as np\n",
    "# giving the structure for 1's\n",
    "x = np.ones((5,5))\n",
    "# printing 1 on the borders and 0's inside the array\n",
    "print(\"1 on the border and 0 inside in the array\")\n",
    "x[1:-1,1:-1] = 0\n",
    "print(x)"
   ]
  },
  {
   "cell_type": "markdown",
   "id": "77e8fc9e",
   "metadata": {},
   "source": [
    "d. Write a Numpy program to create a 8x8 matrix and fill it with a checkerboard pattern."
   ]
  },
  {
   "cell_type": "code",
   "execution_count": 19,
   "id": "eadfa365",
   "metadata": {},
   "outputs": [
    {
     "name": "stdout",
     "output_type": "stream",
     "text": [
      "Checkerboard pattern:\n",
      "[[0 1 0 1 0 1 0 1]\n",
      " [1 0 1 0 1 0 1 0]\n",
      " [0 1 0 1 0 1 0 1]\n",
      " [1 0 1 0 1 0 1 0]\n",
      " [0 1 0 1 0 1 0 1]\n",
      " [1 0 1 0 1 0 1 0]\n",
      " [0 1 0 1 0 1 0 1]\n",
      " [1 0 1 0 1 0 1 0]]\n"
     ]
    }
   ],
   "source": [
    "# giving the structure for 1's\n",
    "x = np.ones((3,3))\n",
    "print(\"Checkerboard pattern:\")\n",
    "# printing the checkboard pattern \n",
    "x = np.zeros((8,8),dtype=int)\n",
    "x[1::2,::2] = 1\n",
    "x[::2,1::2] = 1\n",
    "print(x)"
   ]
  }
 ],
 "metadata": {
  "kernelspec": {
   "display_name": "Python 3 (ipykernel)",
   "language": "python",
   "name": "python3"
  },
  "language_info": {
   "codemirror_mode": {
    "name": "ipython",
    "version": 3
   },
   "file_extension": ".py",
   "mimetype": "text/x-python",
   "name": "python",
   "nbconvert_exporter": "python",
   "pygments_lexer": "ipython3",
   "version": "3.9.7"
  }
 },
 "nbformat": 4,
 "nbformat_minor": 5
}
